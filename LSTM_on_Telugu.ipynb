{
  "nbformat": 4,
  "nbformat_minor": 0,
  "metadata": {
    "colab": {
      "name": "LSTM on Telugu.ipynb",
      "provenance": [],
      "authorship_tag": "ABX9TyNZ4LDfRZNU5XNSka07ssv1",
      "include_colab_link": true
    },
    "kernelspec": {
      "name": "python3",
      "display_name": "Python 3"
    }
  },
  "cells": [
    {
      "cell_type": "markdown",
      "metadata": {
        "id": "view-in-github",
        "colab_type": "text"
      },
      "source": [
        "<a href=\"https://colab.research.google.com/github/Narasimhag/FunWithTensorFlow/blob/master/LSTM_on_Telugu.ipynb\" target=\"_parent\"><img src=\"https://colab.research.google.com/assets/colab-badge.svg\" alt=\"Open In Colab\"/></a>"
      ]
    },
    {
      "cell_type": "code",
      "metadata": {
        "id": "zKIyKdoSfoXv",
        "colab_type": "code",
        "colab": {
          "base_uri": "https://localhost:8080/",
          "height": 35
        },
        "outputId": "2a2e710c-3e64-45c3-edfa-5d8bc6afae9f"
      },
      "source": [
        "import tensorflow as tf\n",
        "\n",
        "print(\"Github rocks!\")"
      ],
      "execution_count": 1,
      "outputs": [
        {
          "output_type": "stream",
          "text": [
            "Github rocks!\n"
          ],
          "name": "stdout"
        }
      ]
    }
  ]
}