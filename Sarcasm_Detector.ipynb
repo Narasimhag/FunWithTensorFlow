{
  "nbformat": 4,
  "nbformat_minor": 0,
  "metadata": {
    "colab": {
      "name": "Sarcasm Detector.ipynb",
      "provenance": [],
      "authorship_tag": "ABX9TyMc1giCHsD6lQ2UcbQR2SoL",
      "include_colab_link": true
    },
    "kernelspec": {
      "name": "python3",
      "display_name": "Python 3"
    }
  },
  "cells": [
    {
      "cell_type": "markdown",
      "metadata": {
        "id": "view-in-github",
        "colab_type": "text"
      },
      "source": [
        "<a href=\"https://colab.research.google.com/github/Narasimhag/FunWithTensorFlow/blob/master/Sarcasm_Detector.ipynb\" target=\"_parent\"><img src=\"https://colab.research.google.com/assets/colab-badge.svg\" alt=\"Open In Colab\"/></a>"
      ]
    },
    {
      "cell_type": "markdown",
      "metadata": {
        "id": "OQQ3FgK3eCWL",
        "colab_type": "text"
      },
      "source": [
        "# Predict sarcasm in a given sentence.\n",
        "\n",
        "I don't know about you but ***I hate sarcasm*** :P. That's *why I forced myself* to learn and build a sarcasm detector using neural networks and libraries offered by TensorFlow to enable the process. This is what I'm doing in this notebook.\n",
        "\n",
        "\n",
        "1.   Get data with a lot of sarcasm headlines and labels classifying them as so.\n",
        "2.   Split it into training and testing sets.\n",
        "3.   Pass them into neural net post embedding.\n",
        "4.   Use the model generated to prodict the sarcasm in a given sentence.\n",
        "\n",
        "Each code cell is preceded by what's going on in that cell.\n"
      ]
    },
    {
      "cell_type": "markdown",
      "metadata": {
        "id": "h78aPjPKPWlk",
        "colab_type": "text"
      },
      "source": [
        "Nothing fancy here, just forcing colab to use TensorFlow v2.0"
      ]
    },
    {
      "cell_type": "code",
      "metadata": {
        "id": "jdhOS-e2MrLt",
        "colab_type": "code",
        "colab": {
          "base_uri": "https://localhost:8080/",
          "height": 34
        },
        "outputId": "f64f0e7c-7ba1-4d0a-cb13-4d710f22707a"
      },
      "source": [
        "try:\n",
        "  # %tensorflow_version only exists in Colab.\n",
        "  %tensorflow_version 2.x\n",
        "except Exception:\n",
        "  pass"
      ],
      "execution_count": 1,
      "outputs": [
        {
          "output_type": "stream",
          "text": [
            "TensorFlow 2.x selected.\n"
          ],
          "name": "stdout"
        }
      ]
    },
    {
      "cell_type": "code",
      "metadata": {
        "id": "hLDuvNHc7zjA",
        "colab_type": "code",
        "colab": {}
      },
      "source": [
        "import tensorflow as tf\n",
        "import json\n",
        "import matplotlib.pyplot as plt\n",
        "from tensorflow import keras\n",
        "from tensorflow.keras.preprocessing.text import Tokenizer\n",
        "from tensorflow.keras.preprocessing.sequence import pad_sequences"
      ],
      "execution_count": 0,
      "outputs": []
    },
    {
      "cell_type": "markdown",
      "metadata": {
        "id": "zs5i1adJPkah",
        "colab_type": "text"
      },
      "source": [
        "This is a cool way to get our own data into the colab jupyter notebook. We have to store the files we want to get here in an accesible area and put the link here! I'm getting Rishab Mishra's [sarcasm data](https://www.kaggle.com/rmisra/news-headlines-dataset-for-sarcasm-detection/home). You can read more [here](https://scholar.google.com/citations?view_op=list_works&hl=en&user=EN3OcMsAAAAJ#d=gs_md_cita-d&u=%2Fcitations%3Fview_op%3Dview_citation%26hl%3Den%26user%3DEN3OcMsAAAAJ%26citation_for_view%3DEN3OcMsAAAAJ%3AqjMakFHDy7sC%26tzom%3D420). '!' is just shell's way of getting things done."
      ]
    },
    {
      "cell_type": "code",
      "metadata": {
        "id": "tiF9lRw2OsIC",
        "colab_type": "code",
        "colab": {
          "base_uri": "https://localhost:8080/",
          "height": 204
        },
        "outputId": "f244d1dd-252c-4ca2-b702-3da549e9ea2d"
      },
      "source": [
        "!wget --no-check-certificate \\\n",
        "    https://storage.googleapis.com/laurencemoroney-blog.appspot.com/sarcasm.json \\\n",
        "    -O /tmp/sarcasm.json"
      ],
      "execution_count": 3,
      "outputs": [
        {
          "output_type": "stream",
          "text": [
            "--2020-03-18 20:14:17--  https://storage.googleapis.com/laurencemoroney-blog.appspot.com/sarcasm.json\n",
            "Resolving storage.googleapis.com (storage.googleapis.com)... 74.125.203.128, 2404:6800:4008:c03::80\n",
            "Connecting to storage.googleapis.com (storage.googleapis.com)|74.125.203.128|:443... connected.\n",
            "HTTP request sent, awaiting response... 200 OK\n",
            "Length: 5643545 (5.4M) [application/json]\n",
            "Saving to: ‘/tmp/sarcasm.json’\n",
            "\n",
            "\r/tmp/sarcasm.json     0%[                    ]       0  --.-KB/s               \r/tmp/sarcasm.json   100%[===================>]   5.38M  --.-KB/s    in 0.05s   \n",
            "\n",
            "2020-03-18 20:14:18 (99.3 MB/s) - ‘/tmp/sarcasm.json’ saved [5643545/5643545]\n",
            "\n"
          ],
          "name": "stdout"
        }
      ]
    },
    {
      "cell_type": "code",
      "metadata": {
        "id": "XEVdjtq2PBIO",
        "colab_type": "code",
        "colab": {}
      },
      "source": [
        "vocab_size = 10000\n",
        "max_length = 100\n",
        "trunc_type = 'post'\n",
        "padding_type = 'post'\n",
        "oov_tok = '<OOV>'"
      ],
      "execution_count": 0,
      "outputs": []
    },
    {
      "cell_type": "markdown",
      "metadata": {
        "id": "f0mT6vj9REaE",
        "colab_type": "text"
      },
      "source": [
        "Okay. So, we have the file. It contains headlines from sources like The onion and Huffpost, labeled as 1, if they're sarcastic and 0 if they're not. The following code aims to open that json file to get these headlines and labels into separate lists."
      ]
    },
    {
      "cell_type": "code",
      "metadata": {
        "id": "lBWsx0umQdUo",
        "colab_type": "code",
        "colab": {}
      },
      "source": [
        "with open('/tmp/sarcasm.json', 'r') as datafile:\n",
        "  data = json.load(datafile)\n",
        "\n",
        "sentences = []\n",
        "labels = []\n",
        "\n",
        "for line in data:\n",
        "  sentences.append(line['headline'])\n",
        "  labels.append(line['is_sarcastic'])"
      ],
      "execution_count": 0,
      "outputs": []
    },
    {
      "cell_type": "markdown",
      "metadata": {
        "id": "V4XpWV-xS7Cx",
        "colab_type": "text"
      },
      "source": [
        "Now that we have this data and corresponding labels, we need to identify how to split them into training and test data. To that end, we need to find the total size of the data and say we split them 75, 25."
      ]
    },
    {
      "cell_type": "code",
      "metadata": {
        "id": "rgJaeIv08LqB",
        "colab_type": "code",
        "outputId": "f240b121-cf5c-426a-9c8c-6c00b00d2ded",
        "colab": {
          "base_uri": "https://localhost:8080/",
          "height": 34
        }
      },
      "source": [
        "print(len(sentences))\n",
        "training_size = int(0.75*(len(sentences)))\n",
        "# training_size = 20000\n",
        "\n",
        "train_sentences = sentences[:training_size]\n",
        "test_sentences = sentences[training_size:]\n",
        "train_labels = labels[:training_size]\n",
        "test_labels = labels[training_size:]\n"
      ],
      "execution_count": 6,
      "outputs": [
        {
          "output_type": "stream",
          "text": [
            "26709\n"
          ],
          "name": "stdout"
        }
      ]
    },
    {
      "cell_type": "markdown",
      "metadata": {
        "id": "XsxZdHIkUSo_",
        "colab_type": "text"
      },
      "source": [
        "Let's do some tokenization. Tensorflow has this class 'Tokenizer' - we imported above - which assigns numeric values to each token that it sees in the sentences. Say, a sentence is like this, \"Jack and Jill went up the hill\", Tokenizer splits them into a dict, mapping each word to a unique number like this, `{'Jack': 1, 'Jill': 3, 'went': 4, 'up': 2, 'the': 5, 'hill': 6} `. We can then use these numbers in a neural network. \n",
        "\n",
        "---\n",
        "But wait, it maps words in our training data to numbers which we pass to our neural network, well and good. But what if our test data contains unknown words which we did not encounter in the training data? While NLP offers multiple ways to handle this, TensorFlow offers a placeholder, an out of vocabulary token, which we can give while it is mapping values to the training sentences. \n",
        "We can see this mapping by printing out the word index.\n",
        "\n",
        "---\n",
        "\n",
        "All these things are represented in the following code.\n"
      ]
    },
    {
      "cell_type": "code",
      "metadata": {
        "id": "aG44FE8399JC",
        "colab_type": "code",
        "colab": {}
      },
      "source": [
        "tokenizer = Tokenizer(num_words=vocab_size, oov_token=oov_tok)\n",
        "tokenizer.fit_on_texts(train_sentences)\n",
        "word_index = tokenizer.word_index\n",
        "# print(word_index)"
      ],
      "execution_count": 0,
      "outputs": []
    },
    {
      "cell_type": "markdown",
      "metadata": {
        "id": "zFcteRaUWh9s",
        "colab_type": "text"
      },
      "source": [
        "Cool. We now have the mapping for words. But sentences are not just words. They're are unique ordering of words, a sequence. And all sequences are not of same length, so we pad sentences which are shorter either pre(that is in front) or post(at the end). We can also truncate sentences to a certain size. The following code shows all these features."
      ]
    },
    {
      "cell_type": "code",
      "metadata": {
        "id": "3tNrH-EFW3hn",
        "colab_type": "code",
        "colab": {}
      },
      "source": [
        "train_seq = tokenizer.texts_to_sequences(train_sentences)\n",
        "train_padded = pad_sequences(train_seq, maxlen=max_length, padding=padding_type, truncating=trunc_type)\n",
        "\n",
        "test_seq = tokenizer.texts_to_sequences(test_sentences)\n",
        "test_padded = pad_sequences(test_seq, maxlen=max_length, padding=padding_type, truncating=trunc_type)"
      ],
      "execution_count": 0,
      "outputs": []
    },
    {
      "cell_type": "markdown",
      "metadata": {
        "id": "u0gYGHJ7YU8a",
        "colab_type": "text"
      },
      "source": [
        "And to pass them to TF model methods, we convert them to Numpy arrays. "
      ]
    },
    {
      "cell_type": "code",
      "metadata": {
        "id": "qjBU9r9-Dntb",
        "colab_type": "code",
        "colab": {}
      },
      "source": [
        "import numpy as np\n",
        "train_padded = np.array(train_padded)\n",
        "train_labels = np.array(train_labels)\n",
        "test_padded = np.array(test_padded)\n",
        "test_labels = np.array(test_labels)"
      ],
      "execution_count": 0,
      "outputs": []
    },
    {
      "cell_type": "markdown",
      "metadata": {
        "id": "WNVOSfZqYexz",
        "colab_type": "text"
      },
      "source": [
        "Okay. The neural net enters the game. We build a simple sequential neural net with an embedding first layer and fully connected hidden and output layers. We also do Global average pooling. Fancy words. We assigned some numbers to words in sentences, now we are passing them to a neural net, are expecting magic to happen. But how do some numbers in a neural net know if the sentiment is sarcastic or not? \n",
        "\n",
        "\n",
        "---\n",
        "\n",
        "\n",
        "\n",
        "This is where embedding comes into play. We are plotting these words labelled as 'Sarcastic' and 'Not Sarcastic' in a multi dimensional space (similar to 2D,  but scaled to Interstellar level) and as we train, we learn what directions in this multi dimensional space should look like. Now when we give a word to a fully trained network, it will plot that on to this multi dimensional space, sum the vectors up and find if it is leaning towards the sarcastic or not sarcastic. \n",
        "\n",
        "\n",
        "---\n",
        "The following code aims to implement these ideas. The first layer is the embedding layer, which learns direction of each word every epoch. Next layer is global average pooling, adding up the vectors. Next layers are fully connected layers with 'Relu' and 'Sigmoid' activation functions.\n"
      ]
    },
    {
      "cell_type": "code",
      "metadata": {
        "id": "4n901j8icoVc",
        "colab_type": "code",
        "colab": {}
      },
      "source": [
        "model = tf.keras.Sequential([\n",
        "                             tf.keras.layers.Embedding(vocab_size, 16, input_length = max_length),\n",
        "                             tf.keras.layers.GlobalAveragePooling1D(),\n",
        "                             tf.keras.layers.Dense(24, activation='relu'),\n",
        "                             tf.keras.layers.Dense(1, activation='sigmoid')\n",
        "])\n",
        "\n",
        "model.compile(loss='binary_crossentropy',optimizer='adam',metrics=['accuracy'])"
      ],
      "execution_count": 0,
      "outputs": []
    },
    {
      "cell_type": "code",
      "metadata": {
        "id": "n2tdY6DYdspK",
        "colab_type": "code",
        "colab": {
          "base_uri": "https://localhost:8080/",
          "height": 289
        },
        "outputId": "757ce26a-39cc-444f-cff9-fcf49ffd71c4"
      },
      "source": [
        "model.summary()"
      ],
      "execution_count": 11,
      "outputs": [
        {
          "output_type": "stream",
          "text": [
            "Model: \"sequential\"\n",
            "_________________________________________________________________\n",
            "Layer (type)                 Output Shape              Param #   \n",
            "=================================================================\n",
            "embedding (Embedding)        (None, 100, 16)           160000    \n",
            "_________________________________________________________________\n",
            "global_average_pooling1d (Gl (None, 16)                0         \n",
            "_________________________________________________________________\n",
            "dense (Dense)                (None, 24)                408       \n",
            "_________________________________________________________________\n",
            "dense_1 (Dense)              (None, 1)                 25        \n",
            "=================================================================\n",
            "Total params: 160,433\n",
            "Trainable params: 160,433\n",
            "Non-trainable params: 0\n",
            "_________________________________________________________________\n"
          ],
          "name": "stdout"
        }
      ]
    },
    {
      "cell_type": "code",
      "metadata": {
        "id": "Lvl_OQQNdx9d",
        "colab_type": "code",
        "colab": {
          "base_uri": "https://localhost:8080/",
          "height": 714
        },
        "outputId": "2db3432b-eb2b-4919-de0f-64b1820d1457"
      },
      "source": [
        "num_epochs = 20\n",
        "train_it = model.fit(train_padded, train_labels, epochs=num_epochs, validation_data=(test_padded, test_labels), verbose=2)"
      ],
      "execution_count": 12,
      "outputs": [
        {
          "output_type": "stream",
          "text": [
            "Train on 20031 samples, validate on 6678 samples\n",
            "Epoch 1/20\n",
            "20031/20031 - 3s - loss: 0.6625 - accuracy: 0.5932 - val_loss: 0.5618 - val_accuracy: 0.7526\n",
            "Epoch 2/20\n",
            "20031/20031 - 3s - loss: 0.4100 - accuracy: 0.8360 - val_loss: 0.3727 - val_accuracy: 0.8440\n",
            "Epoch 3/20\n",
            "20031/20031 - 2s - loss: 0.2961 - accuracy: 0.8815 - val_loss: 0.3463 - val_accuracy: 0.8540\n",
            "Epoch 4/20\n",
            "20031/20031 - 2s - loss: 0.2467 - accuracy: 0.9036 - val_loss: 0.3416 - val_accuracy: 0.8573\n",
            "Epoch 5/20\n",
            "20031/20031 - 2s - loss: 0.2123 - accuracy: 0.9174 - val_loss: 0.3440 - val_accuracy: 0.8559\n",
            "Epoch 6/20\n",
            "20031/20031 - 3s - loss: 0.1864 - accuracy: 0.9297 - val_loss: 0.3570 - val_accuracy: 0.8571\n",
            "Epoch 7/20\n",
            "20031/20031 - 3s - loss: 0.1657 - accuracy: 0.9373 - val_loss: 0.4089 - val_accuracy: 0.8369\n",
            "Epoch 8/20\n",
            "20031/20031 - 3s - loss: 0.1477 - accuracy: 0.9464 - val_loss: 0.3864 - val_accuracy: 0.8528\n",
            "Epoch 9/20\n",
            "20031/20031 - 2s - loss: 0.1305 - accuracy: 0.9536 - val_loss: 0.4105 - val_accuracy: 0.8498\n",
            "Epoch 10/20\n",
            "20031/20031 - 2s - loss: 0.1202 - accuracy: 0.9580 - val_loss: 0.4286 - val_accuracy: 0.8503\n",
            "Epoch 11/20\n",
            "20031/20031 - 2s - loss: 0.1071 - accuracy: 0.9633 - val_loss: 0.4620 - val_accuracy: 0.8420\n",
            "Epoch 12/20\n",
            "20031/20031 - 2s - loss: 0.0983 - accuracy: 0.9668 - val_loss: 0.4800 - val_accuracy: 0.8464\n",
            "Epoch 13/20\n",
            "20031/20031 - 2s - loss: 0.0899 - accuracy: 0.9697 - val_loss: 0.5145 - val_accuracy: 0.8390\n",
            "Epoch 14/20\n",
            "20031/20031 - 2s - loss: 0.0806 - accuracy: 0.9733 - val_loss: 0.5531 - val_accuracy: 0.8335\n",
            "Epoch 15/20\n",
            "20031/20031 - 3s - loss: 0.0756 - accuracy: 0.9747 - val_loss: 0.5668 - val_accuracy: 0.8389\n",
            "Epoch 16/20\n",
            "20031/20031 - 3s - loss: 0.0680 - accuracy: 0.9775 - val_loss: 0.6124 - val_accuracy: 0.8308\n",
            "Epoch 17/20\n",
            "20031/20031 - 3s - loss: 0.0622 - accuracy: 0.9800 - val_loss: 0.6470 - val_accuracy: 0.8291\n",
            "Epoch 18/20\n",
            "20031/20031 - 2s - loss: 0.0557 - accuracy: 0.9828 - val_loss: 0.6648 - val_accuracy: 0.8308\n",
            "Epoch 19/20\n",
            "20031/20031 - 3s - loss: 0.0516 - accuracy: 0.9839 - val_loss: 0.7059 - val_accuracy: 0.8275\n",
            "Epoch 20/20\n",
            "20031/20031 - 2s - loss: 0.0463 - accuracy: 0.9861 - val_loss: 0.7387 - val_accuracy: 0.8264\n"
          ],
          "name": "stdout"
        }
      ]
    },
    {
      "cell_type": "markdown",
      "metadata": {
        "id": "fFbfSNFnuOfa",
        "colab_type": "text"
      },
      "source": [
        "I took number of epochs to be 20. Am I right? Or are you right for calling me wrong? There is no right answer, as many people debate over this. Here is a nice article in [Towards Data Science](https://towardsdatascience.com/epoch-vs-iterations-vs-batch-size-4dfb9c7ce9c9) blog. But in this case (run the cell above), you might be right! One factor is performace on validation data, and we see it dropping after epoch number 4. So maybe, we should limit the number of epochs to 5? What do you think?"
      ]
    },
    {
      "cell_type": "code",
      "metadata": {
        "id": "DOMhdA8PvtVQ",
        "colab_type": "code",
        "colab": {
          "base_uri": "https://localhost:8080/",
          "height": 542
        },
        "outputId": "f74812e3-bb35-489a-fe34-9486f06ea7f0"
      },
      "source": [
        "def graph_it(history, string):\n",
        "  plt.plot(history.history[string])\n",
        "  plt.plot(history.history['val_'+string])\n",
        "  plt.xlabel(\"Epochs\")\n",
        "  plt.ylabel(string)\n",
        "  plt.legend([string, 'val_'+string])\n",
        "  plt.show()\n",
        "  \n",
        "graph_it(train_it, \"accuracy\")\n",
        "graph_it(train_it, \"loss\")"
      ],
      "execution_count": 13,
      "outputs": [
        {
          "output_type": "display_data",
          "data": {
            "image/png": "[encoded data removed]",
            "text/plain": [
              "<Figure size 432x288 with 1 Axes>"
            ]
          },
          "metadata": {
            "tags": []
          }
        },
        {
          "output_type": "display_data",
          "data": {
            "image/png": "[encoded data removed]",
            "text/plain": [
              "<Figure size 432x288 with 1 Axes>"
            ]
          },
          "metadata": {
            "tags": []
          }
        }
      ]
    },
    {
      "cell_type": "code",
      "metadata": {
        "id": "eFb65X4Jx87Z",
        "colab_type": "code",
        "colab": {
          "base_uri": "https://localhost:8080/",
          "height": 51
        },
        "outputId": "f5f47b9b-6eda-4ef6-f6d3-8b372186925f"
      },
      "source": [
        "pred_sentence = [\"granny starting to fear spiders in the garden might be real\", \"game of thrones season finale showing this sunday night\"]\n",
        "pred_sequences = tokenizer.texts_to_sequences(pred_sentence)\n",
        "pred_padded = pad_sequences(pred_sequences, maxlen=max_length, padding=padding_type, truncating=trunc_type)\n",
        "print(model.predict(pred_padded))"
      ],
      "execution_count": 14,
      "outputs": [
        {
          "output_type": "stream",
          "text": [
            "[[0.9433408 ]\n",
            " [0.00129842]]\n"
          ],
          "name": "stdout"
        }
      ]
    },
    {
      "cell_type": "markdown",
      "metadata": {
        "id": "TMzVKrHizLuS",
        "colab_type": "text"
      },
      "source": [
        "As we can see, in the prediction example above, the neural net classifies the first sentence as 'Sarcastic' and the second one not so much. For fun, why don't you change the sentences in pred_sentence list and see how the model does!\n",
        "\n",
        "---\n",
        "\n",
        "This concludes my coding and commentary for Sarcasm detector. Thanks @lmoroney for guidance!"
      ]
    }
  ]
}